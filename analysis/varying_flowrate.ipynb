{
  "nbformat": 4,
  "nbformat_minor": 0,
  "metadata": {
    "kernelspec": {
      "name": "python3",
      "display_name": "Python 3"
    },
    "colab": {
      "name": "varying_flowrate.ipynb",
      "provenance": [],
      "toc_visible": true,
      "include_colab_link": true
    }
  },
  "cells": [
    {
      "cell_type": "markdown",
      "metadata": {
        "id": "view-in-github",
        "colab_type": "text"
      },
      "source": [
        "<a href=\"https://colab.research.google.com/github/sbooeshaghi/colosseum/blob/master/analysis/varying_flowrate.ipynb\" target=\"_parent\"><img src=\"https://colab.research.google.com/assets/colab-badge.svg\" alt=\"Open In Colab\"/></a>"
      ]
    },
    {
      "cell_type": "code",
      "metadata": {
        "id": "AhV8FHM4C_cF",
        "colab": {
          "base_uri": "https://localhost:8080/"
        },
        "outputId": "0082e7d1-ab44-42da-dfdc-5b3b91083a81"
      },
      "source": [
        "!date"
      ],
      "execution_count": null,
      "outputs": [
        {
          "output_type": "stream",
          "text": [
            "Tue Jan 26 09:57:27 UTC 2021\n"
          ],
          "name": "stdout"
        }
      ]
    },
    {
      "cell_type": "code",
      "metadata": {
        "id": "urEzAzJ8DBYd",
        "colab": {
          "base_uri": "https://localhost:8080/"
        },
        "outputId": "9be94890-f0c9-4d8f-c02a-bd3cfe5c2288"
      },
      "source": [
        "!git clone https://github.com/sbooeshaghi/colosseum.git"
      ],
      "execution_count": null,
      "outputs": [
        {
          "output_type": "stream",
          "text": [
            "Cloning into 'colosseum'...\n",
            "remote: Enumerating objects: 13, done.\u001b[K\n",
            "remote: Counting objects: 100% (13/13), done.\u001b[K\n",
            "remote: Compressing objects: 100% (11/11), done.\u001b[K\n",
            "remote: Total 537 (delta 3), reused 12 (delta 2), pack-reused 524\u001b[K\n",
            "Receiving objects: 100% (537/537), 11.56 MiB | 27.35 MiB/s, done.\n",
            "Resolving deltas: 100% (284/284), done.\n"
          ],
          "name": "stdout"
        }
      ]
    },
    {
      "cell_type": "markdown",
      "metadata": {
        "id": "MWkYtaa6C_cR"
      },
      "source": [
        "# Varying flowrate"
      ]
    },
    {
      "cell_type": "code",
      "metadata": {
        "id": "YEIpn64rC_cS"
      },
      "source": [
        "import pandas as pd\n",
        "import matplotlib.pyplot as plt\n",
        "import numpy as np\n",
        "from scipy import stats\n",
        "import matplotlib.patches as mpatches\n",
        "import math\n",
        "from matplotlib.ticker import MaxNLocator\n",
        "import matplotlib.ticker as mtick\n",
        "\n",
        "\n",
        "plt.rcParams.update({'font.size': 20})\n",
        "%config InlineBackend.figure_format = 'retina'"
      ],
      "execution_count": null,
      "outputs": []
    },
    {
      "cell_type": "code",
      "metadata": {
        "id": "N2k-DbUNC_cS"
      },
      "source": [
        "df = pd.read_csv(\"/content/colosseum/data/experiment_1.csv\")\n",
        "df = df.loc[:, ~df.columns.str.contains('^Unnamed')]\n",
        "\n",
        "columns = {\"Tube Number\": \"tube_number\",\n",
        "           \"Flow rate (uL/s)\": \"flowrate\",\n",
        "           \"Before (g)\":\t\"empty_weight\",\n",
        "           \"After (g)\": \"total_weight\",\n",
        "           \"Difference (g)\":\t\"fluid_vol\",\n",
        "           \"Percent error from 1 (%)\": \"error\"}\n",
        "\n",
        "df = df.rename(columns=columns)\n",
        "df[\"expected_vol\"] = 1.000"
      ],
      "execution_count": null,
      "outputs": []
    },
    {
      "cell_type": "code",
      "metadata": {
        "id": "ElX3sK7EFGyp",
        "colab": {
          "base_uri": "https://localhost:8080/",
          "height": 407
        },
        "outputId": "a77fc45a-41d3-4c00-fa84-6992083f1e0e"
      },
      "source": [
        "df"
      ],
      "execution_count": null,
      "outputs": [
        {
          "output_type": "execute_result",
          "data": {
            "text/html": [
              "<div>\n",
              "<style scoped>\n",
              "    .dataframe tbody tr th:only-of-type {\n",
              "        vertical-align: middle;\n",
              "    }\n",
              "\n",
              "    .dataframe tbody tr th {\n",
              "        vertical-align: top;\n",
              "    }\n",
              "\n",
              "    .dataframe thead th {\n",
              "        text-align: right;\n",
              "    }\n",
              "</style>\n",
              "<table border=\"1\" class=\"dataframe\">\n",
              "  <thead>\n",
              "    <tr style=\"text-align: right;\">\n",
              "      <th></th>\n",
              "      <th>flowrate</th>\n",
              "      <th>tube_number</th>\n",
              "      <th>empty_weight</th>\n",
              "      <th>total_weight</th>\n",
              "      <th>fluid_vol</th>\n",
              "      <th>error</th>\n",
              "      <th>expected_vol</th>\n",
              "    </tr>\n",
              "  </thead>\n",
              "  <tbody>\n",
              "    <tr>\n",
              "      <th>0</th>\n",
              "      <td>6.25</td>\n",
              "      <td>1</td>\n",
              "      <td>1.066</td>\n",
              "      <td>2.063</td>\n",
              "      <td>0.997</td>\n",
              "      <td>-0.3</td>\n",
              "      <td>1.0</td>\n",
              "    </tr>\n",
              "    <tr>\n",
              "      <th>1</th>\n",
              "      <td>6.25</td>\n",
              "      <td>2</td>\n",
              "      <td>1.068</td>\n",
              "      <td>2.027</td>\n",
              "      <td>0.959</td>\n",
              "      <td>-4.1</td>\n",
              "      <td>1.0</td>\n",
              "    </tr>\n",
              "    <tr>\n",
              "      <th>2</th>\n",
              "      <td>6.25</td>\n",
              "      <td>3</td>\n",
              "      <td>1.068</td>\n",
              "      <td>2.027</td>\n",
              "      <td>0.959</td>\n",
              "      <td>-4.1</td>\n",
              "      <td>1.0</td>\n",
              "    </tr>\n",
              "    <tr>\n",
              "      <th>3</th>\n",
              "      <td>6.25</td>\n",
              "      <td>4</td>\n",
              "      <td>1.068</td>\n",
              "      <td>2.079</td>\n",
              "      <td>1.011</td>\n",
              "      <td>1.1</td>\n",
              "      <td>1.0</td>\n",
              "    </tr>\n",
              "    <tr>\n",
              "      <th>4</th>\n",
              "      <td>6.25</td>\n",
              "      <td>5</td>\n",
              "      <td>1.068</td>\n",
              "      <td>2.053</td>\n",
              "      <td>0.985</td>\n",
              "      <td>-1.5</td>\n",
              "      <td>1.0</td>\n",
              "    </tr>\n",
              "    <tr>\n",
              "      <th>...</th>\n",
              "      <td>...</td>\n",
              "      <td>...</td>\n",
              "      <td>...</td>\n",
              "      <td>...</td>\n",
              "      <td>...</td>\n",
              "      <td>...</td>\n",
              "      <td>...</td>\n",
              "    </tr>\n",
              "    <tr>\n",
              "      <th>175</th>\n",
              "      <td>12.50</td>\n",
              "      <td>26</td>\n",
              "      <td>1.055</td>\n",
              "      <td>2.056</td>\n",
              "      <td>1.001</td>\n",
              "      <td>0.1</td>\n",
              "      <td>1.0</td>\n",
              "    </tr>\n",
              "    <tr>\n",
              "      <th>176</th>\n",
              "      <td>12.50</td>\n",
              "      <td>27</td>\n",
              "      <td>1.067</td>\n",
              "      <td>2.028</td>\n",
              "      <td>0.961</td>\n",
              "      <td>-3.9</td>\n",
              "      <td>1.0</td>\n",
              "    </tr>\n",
              "    <tr>\n",
              "      <th>177</th>\n",
              "      <td>12.50</td>\n",
              "      <td>28</td>\n",
              "      <td>1.066</td>\n",
              "      <td>2.059</td>\n",
              "      <td>0.993</td>\n",
              "      <td>-0.7</td>\n",
              "      <td>1.0</td>\n",
              "    </tr>\n",
              "    <tr>\n",
              "      <th>178</th>\n",
              "      <td>12.50</td>\n",
              "      <td>29</td>\n",
              "      <td>1.064</td>\n",
              "      <td>2.042</td>\n",
              "      <td>0.978</td>\n",
              "      <td>-2.2</td>\n",
              "      <td>1.0</td>\n",
              "    </tr>\n",
              "    <tr>\n",
              "      <th>179</th>\n",
              "      <td>12.50</td>\n",
              "      <td>30</td>\n",
              "      <td>1.054</td>\n",
              "      <td>2.003</td>\n",
              "      <td>0.949</td>\n",
              "      <td>-5.1</td>\n",
              "      <td>1.0</td>\n",
              "    </tr>\n",
              "  </tbody>\n",
              "</table>\n",
              "<p>180 rows × 7 columns</p>\n",
              "</div>"
            ],
            "text/plain": [
              "     flowrate  tube_number  empty_weight  ...  fluid_vol  error  expected_vol\n",
              "0        6.25            1         1.066  ...      0.997   -0.3           1.0\n",
              "1        6.25            2         1.068  ...      0.959   -4.1           1.0\n",
              "2        6.25            3         1.068  ...      0.959   -4.1           1.0\n",
              "3        6.25            4         1.068  ...      1.011    1.1           1.0\n",
              "4        6.25            5         1.068  ...      0.985   -1.5           1.0\n",
              "..        ...          ...           ...  ...        ...    ...           ...\n",
              "175     12.50           26         1.055  ...      1.001    0.1           1.0\n",
              "176     12.50           27         1.067  ...      0.961   -3.9           1.0\n",
              "177     12.50           28         1.066  ...      0.993   -0.7           1.0\n",
              "178     12.50           29         1.064  ...      0.978   -2.2           1.0\n",
              "179     12.50           30         1.054  ...      0.949   -5.1           1.0\n",
              "\n",
              "[180 rows x 7 columns]"
            ]
          },
          "metadata": {
            "tags": []
          },
          "execution_count": 5
        }
      ]
    },
    {
      "cell_type": "code",
      "metadata": {
        "id": "BXW8IL-LCOiQ"
      },
      "source": [
        "obs = df.groupby(\"flowrate\")[\"fluid_vol\"].apply(np.array)\n",
        "exp = [1.000, 1.000, 1.000, 1.000, 1.000, 1.000]\n",
        "conditions = np.unique(df[\"flowrate\"].values)"
      ],
      "execution_count": null,
      "outputs": []
    },
    {
      "cell_type": "code",
      "metadata": {
        "id": "9rFcIJJgE4FE",
        "colab": {
          "base_uri": "https://localhost:8080/"
        },
        "outputId": "70ac845d-5eef-4672-b5fa-3fdf112dac3c"
      },
      "source": [
        "obs"
      ],
      "execution_count": null,
      "outputs": [
        {
          "output_type": "execute_result",
          "data": {
            "text/plain": [
              "flowrate\n",
              "6.25      [0.997, 0.9590000000000001, 0.9590000000000001...\n",
              "12.50     [0.996, 0.941, 1.004, 1.021, 0.97, 0.996, 1.02...\n",
              "25.00     [0.9440000000000001, 0.9840000000000001, 0.954...\n",
              "50.00     [0.973, 0.951, 0.941, 0.995, 0.965, 1.04, 1.06...\n",
              "100.00    [0.978, 0.993, 0.9840000000000001, 1.004, 0.97...\n",
              "200.00    [0.894, 0.961, 0.968, 0.966, 1.003, 1.013, 0.9...\n",
              "Name: fluid_vol, dtype: object"
            ]
          },
          "metadata": {
            "tags": []
          },
          "execution_count": 7
        }
      ]
    },
    {
      "cell_type": "code",
      "metadata": {
        "id": "IFk0BcKIEFmB",
        "colab": {
          "base_uri": "https://localhost:8080/"
        },
        "outputId": "576c7b4f-9685-4a7a-aa26-9178420b5aad"
      },
      "source": [
        "exp"
      ],
      "execution_count": null,
      "outputs": [
        {
          "output_type": "execute_result",
          "data": {
            "text/plain": [
              "[1.0, 1.0, 1.0, 1.0, 1.0, 1.0]"
            ]
          },
          "metadata": {
            "tags": []
          },
          "execution_count": 8
        }
      ]
    },
    {
      "cell_type": "code",
      "metadata": {
        "id": "i-8ON79fEQCc"
      },
      "source": [
        "mean = df.groupby(\"flowrate\")[\"fluid_vol\"].agg(np.mean)\n",
        "stdev = df.groupby(\"flowrate\")[\"fluid_vol\"].agg(np.std)"
      ],
      "execution_count": null,
      "outputs": []
    },
    {
      "cell_type": "code",
      "metadata": {
        "id": "eg4tCeLDETxr",
        "colab": {
          "base_uri": "https://localhost:8080/"
        },
        "outputId": "55cdf1dc-26ea-4c53-9e3e-0f67a39ce8bf"
      },
      "source": [
        "mean"
      ],
      "execution_count": null,
      "outputs": [
        {
          "output_type": "execute_result",
          "data": {
            "text/plain": [
              "flowrate\n",
              "6.25      0.986633\n",
              "12.50     0.987800\n",
              "25.00     0.987567\n",
              "50.00     0.993167\n",
              "100.00    0.993967\n",
              "200.00    0.995900\n",
              "Name: fluid_vol, dtype: float64"
            ]
          },
          "metadata": {
            "tags": []
          },
          "execution_count": 10
        }
      ]
    },
    {
      "cell_type": "code",
      "metadata": {
        "id": "Jiog8VDMEi7M",
        "colab": {
          "base_uri": "https://localhost:8080/"
        },
        "outputId": "19544214-7106-4f66-81cc-da83a981b80d"
      },
      "source": [
        "stdev"
      ],
      "execution_count": null,
      "outputs": [
        {
          "output_type": "execute_result",
          "data": {
            "text/plain": [
              "flowrate\n",
              "6.25      0.019676\n",
              "12.50     0.023817\n",
              "25.00     0.022632\n",
              "50.00     0.028836\n",
              "100.00    0.023986\n",
              "200.00    0.027037\n",
              "Name: fluid_vol, dtype: float64"
            ]
          },
          "metadata": {
            "tags": []
          },
          "execution_count": 11
        }
      ]
    },
    {
      "cell_type": "code",
      "metadata": {
        "id": "PUxANTsdA-dv"
      },
      "source": [
        "def violinplot(data, ax, **kwd): \n",
        "    xticklabels = kwd.get(\"xticklabels\", [])\n",
        "    xticks = kwd.get(\"xticks\", [])\n",
        "    selected = kwd.get(\"selected\", None)\n",
        "    color = kwd.get(\"color\", \"lightgrey\")\n",
        "    \n",
        "    if  len(xticks)==0: xticks = np.arange(len(data))+1;\n",
        "    if  len(xticklabels)==0: xticklabels = np.arange(len(data))+1;\n",
        "    assert(len(xticks) == len(xticklabels))\n",
        "        \n",
        "    violins = ax.violinplot(data, positions=xticks, showmeans=False, showmedians=False, showextrema=False)\n",
        "    \n",
        "    for vidx, v in enumerate(violins['bodies']):\n",
        "        v.set_facecolor(color)\n",
        "        v.set_edgecolor('black')\n",
        "        v.set_alpha(1)\n",
        "        if selected == vidx:\n",
        "            v.set_facecolor(\"#D43F3A\")\n",
        "\n",
        "            \n",
        "    \n",
        "    for didx, d in enumerate(data):\n",
        "        x = xticks[didx]\n",
        "        xx = np.random.normal(x, 0.04, size=len(d))\n",
        "        \n",
        "        # actual points\n",
        "        ax.scatter(xx, d, s = 5, color=\"white\", edgecolor=\"black\", linewidth=1)\n",
        "        \n",
        "        # mean and error bars\n",
        "        mean = np.mean(d)\n",
        "        stdev = np.sqrt(np.var(d))\n",
        "        ax.scatter(x, mean, color=\"lightgrey\", edgecolor=\"black\", linewidth=1, zorder=10)    \n",
        "        ax.vlines(x, mean - stdev, mean+stdev, color='black', linestyle='-', lw=2, zorder=9)\n",
        "        \n",
        "    ax.set(**{\"xticks\": xticks, \"xticklabels\":xticklabels})\n",
        "    \n",
        "    return ax"
      ],
      "execution_count": null,
      "outputs": []
    },
    {
      "cell_type": "code",
      "metadata": {
        "id": "Ixc1KXrcEx5W"
      },
      "source": [
        "err = (obs-exp)"
      ],
      "execution_count": null,
      "outputs": []
    },
    {
      "cell_type": "code",
      "metadata": {
        "id": "POUO4vIdI8PF",
        "colab": {
          "base_uri": "https://localhost:8080/"
        },
        "outputId": "74266cda-e711-478a-ec7f-ca9b563bf689"
      },
      "source": [
        "err"
      ],
      "execution_count": null,
      "outputs": [
        {
          "output_type": "execute_result",
          "data": {
            "text/plain": [
              "flowrate\n",
              "6.25      [-0.0030000000000000027, -0.040999999999999925...\n",
              "12.50     [-0.0040000000000000036, -0.05900000000000005,...\n",
              "25.00     [-0.05599999999999994, -0.015999999999999903, ...\n",
              "50.00     [-0.027000000000000024, -0.049000000000000044,...\n",
              "100.00    [-0.02200000000000002, -0.007000000000000006, ...\n",
              "200.00    [-0.10599999999999998, -0.039000000000000035, ...\n",
              "Name: fluid_vol, dtype: object"
            ]
          },
          "metadata": {
            "tags": []
          },
          "execution_count": 14
        }
      ]
    },
    {
      "cell_type": "code",
      "metadata": {
        "id": "PSkCcM5UJB4C",
        "colab": {
          "base_uri": "https://localhost:8080/"
        },
        "outputId": "6db93589-b55d-4c09-a87a-75c5552bb66d"
      },
      "source": [
        "err/exp*100"
      ],
      "execution_count": null,
      "outputs": [
        {
          "output_type": "execute_result",
          "data": {
            "text/plain": [
              "flowrate\n",
              "6.25      [-0.30000000000000027, -4.0999999999999925, -4...\n",
              "12.50     [-0.40000000000000036, -5.900000000000006, 0.4...\n",
              "25.00     [-5.599999999999994, -1.5999999999999903, -4.5...\n",
              "50.00     [-2.7000000000000024, -4.900000000000004, -5.9...\n",
              "100.00    [-2.200000000000002, -0.7000000000000006, -1.5...\n",
              "200.00    [-10.599999999999998, -3.9000000000000035, -3....\n",
              "Name: fluid_vol, dtype: object"
            ]
          },
          "metadata": {
            "tags": []
          },
          "execution_count": 15
        }
      ]
    },
    {
      "cell_type": "code",
      "metadata": {
        "id": "0gSfT4YWAW7t",
        "colab": {
          "base_uri": "https://localhost:8080/",
          "height": 462
        },
        "outputId": "897676a9-39bf-4d4a-f3e7-53b973430b4f"
      },
      "source": [
        "fig, ax = plt.subplots(figsize=(7,7))\n",
        "\n",
        "errors = (err/exp*100).values\n",
        "\n",
        "violinplot(errors, ax, xticklabels=conditions)\n",
        "\n",
        "ax.set(**{\n",
        "    \"xlabel\": \"Flow rate [mL/s]\",\n",
        "    \"ylabel\": \"Error %\",\n",
        "    \"ylim\": (-25, 25)\n",
        "})\n",
        "\n",
        "fig.savefig(\"fraction_flowrate_error.png\", bbox_inches='tight', dpi=300)\n",
        "\n",
        "fig.show()"
      ],
      "execution_count": null,
      "outputs": [
        {
          "output_type": "display_data",
          "data": {
            "image/png": "[encoded data removed]",
            "text/plain": [
              "<Figure size 504x504 with 1 Axes>"
            ]
          },
          "metadata": {
            "tags": [],
            "image/png": {
              "width": 478,
              "height": 445
            },
            "needs_background": "light"
          }
        }
      ]
    },
    {
      "cell_type": "code",
      "metadata": {
        "id": "V3DG7X66AXtW",
        "colab": {
          "base_uri": "https://localhost:8080/"
        },
        "outputId": "b08f0211-a7d3-4348-9d46-32694b15f9cc"
      },
      "source": [
        "import statsmodels.api as sm\n",
        "from statsmodels.stats.multitest import multipletests"
      ],
      "execution_count": null,
      "outputs": [
        {
          "output_type": "stream",
          "text": [
            "/usr/local/lib/python3.6/dist-packages/statsmodels/tools/_testing.py:19: FutureWarning: pandas.util.testing is deprecated. Use the functions in the public API at pandas.testing instead.\n",
            "  import pandas.util.testing as tm\n"
          ],
          "name": "stderr"
        }
      ]
    },
    {
      "cell_type": "code",
      "metadata": {
        "id": "JEueAMTnAvDQ"
      },
      "source": [
        "lens = obs.apply(lambda x: len(x)).values\n",
        "X = np.repeat(obs.index.values, lens)\n",
        "XX = sm.add_constant(X)\n",
        "\n",
        "Y = np.concatenate(obs.values)"
      ],
      "execution_count": null,
      "outputs": []
    },
    {
      "cell_type": "code",
      "metadata": {
        "id": "DkrxkfQMAd2J"
      },
      "source": [
        "ols = sm.OLS(Y, XX).fit()"
      ],
      "execution_count": null,
      "outputs": []
    },
    {
      "cell_type": "code",
      "metadata": {
        "colab": {
          "base_uri": "https://localhost:8080/"
        },
        "id": "YuTZW-UWBkgx",
        "outputId": "cb43ea64-7558-42e5-b7b6-f780e196c4b3"
      },
      "source": [
        "print(ols.summary())"
      ],
      "execution_count": null,
      "outputs": [
        {
          "output_type": "stream",
          "text": [
            "                            OLS Regression Results                            \n",
            "==============================================================================\n",
            "Dep. Variable:                      y   R-squared:                       0.017\n",
            "Model:                            OLS   Adj. R-squared:                  0.012\n",
            "Method:                 Least Squares   F-statistic:                     3.104\n",
            "Date:                Tue, 26 Jan 2021   Prob (F-statistic):             0.0798\n",
            "Time:                        09:57:33   Log-Likelihood:                 414.76\n",
            "No. Observations:                 180   AIC:                            -825.5\n",
            "Df Residuals:                     178   BIC:                            -819.1\n",
            "Df Model:                           1                                         \n",
            "Covariance Type:            nonrobust                                         \n",
            "==============================================================================\n",
            "                 coef    std err          t      P>|t|      [0.025      0.975]\n",
            "------------------------------------------------------------------------------\n",
            "const          0.9877      0.003    391.614      0.000       0.983       0.993\n",
            "x1          4.714e-05   2.68e-05      1.762      0.080   -5.66e-06    9.99e-05\n",
            "==============================================================================\n",
            "Omnibus:                       12.644   Durbin-Watson:                   2.136\n",
            "Prob(Omnibus):                  0.002   Jarque-Bera (JB):               20.156\n",
            "Skew:                          -0.383   Prob(JB):                     4.20e-05\n",
            "Kurtosis:                       4.450   Cond. No.                         131.\n",
            "==============================================================================\n",
            "\n",
            "Warnings:\n",
            "[1] Standard Errors assume that the covariance matrix of the errors is correctly specified.\n"
          ],
          "name": "stdout"
        }
      ]
    },
    {
      "cell_type": "code",
      "metadata": {
        "id": "iTPluAqAC_cZ"
      },
      "source": [
        ""
      ],
      "execution_count": null,
      "outputs": []
    }
  ]
}