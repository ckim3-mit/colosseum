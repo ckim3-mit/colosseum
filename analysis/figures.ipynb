{
  "nbformat": 4,
  "nbformat_minor": 0,
  "metadata": {
    "kernelspec": {
      "display_name": "Python (py37)",
      "language": "python",
      "name": "py37"
    },
    "language_info": {
      "codemirror_mode": {
        "name": "ipython",
        "version": 3
      },
      "file_extension": ".py",
      "mimetype": "text/x-python",
      "name": "python",
      "nbconvert_exporter": "python",
      "pygments_lexer": "ipython3",
      "version": "3.7.1"
    },
    "colab": {
      "name": "figures.ipynb",
      "provenance": [],
      "toc_visible": true,
      "include_colab_link": true
    }
  },
  "cells": [
    {
      "cell_type": "markdown",
      "metadata": {
        "id": "view-in-github",
        "colab_type": "text"
      },
      "source": [
        "<a href=\"https://colab.research.google.com/github/sbooeshaghi/colosseum/blob/master/analysis/figures.ipynb\" target=\"_parent\"><img src=\"https://colab.research.google.com/assets/colab-badge.svg\" alt=\"Open In Colab\"/></a>"
      ]
    },
    {
      "cell_type": "code",
      "metadata": {
        "id": "AhV8FHM4C_cF",
        "colab": {
          "base_uri": "https://localhost:8080/"
        },
        "outputId": "803f94ce-0156-4892-c38f-e810412fb6d0"
      },
      "source": [
        "!date"
      ],
      "execution_count": 1,
      "outputs": [
        {
          "output_type": "stream",
          "text": [
            "Wed Dec 23 04:58:17 UTC 2020\n"
          ],
          "name": "stdout"
        }
      ]
    },
    {
      "cell_type": "code",
      "metadata": {
        "id": "urEzAzJ8DBYd",
        "colab": {
          "base_uri": "https://localhost:8080/"
        },
        "outputId": "d4db709f-be62-48cf-e001-71f2091d6f64"
      },
      "source": [
        "!git clone https://github.com/sbooeshaghi/colosseum.git"
      ],
      "execution_count": 2,
      "outputs": [
        {
          "output_type": "stream",
          "text": [
            "Cloning into 'colosseum'...\n",
            "remote: Enumerating objects: 204, done.\u001b[K\n",
            "remote: Counting objects: 100% (204/204), done.\u001b[K\n",
            "remote: Compressing objects: 100% (161/161), done.\u001b[K\n",
            "remote: Total 416 (delta 107), reused 111 (delta 38), pack-reused 212\u001b[K\n",
            "Receiving objects: 100% (416/416), 10.21 MiB | 23.54 MiB/s, done.\n",
            "Resolving deltas: 100% (208/208), done.\n"
          ],
          "name": "stdout"
        }
      ]
    },
    {
      "cell_type": "markdown",
      "metadata": {
        "id": "MWkYtaa6C_cR"
      },
      "source": [
        "# Experiment 1 Analysis"
      ]
    },
    {
      "cell_type": "code",
      "metadata": {
        "id": "YEIpn64rC_cS"
      },
      "source": [
        "import pandas as pd\n",
        "import matplotlib.pyplot as plt\n",
        "import numpy as np\n",
        "from scipy import stats\n",
        "import matplotlib.patches as mpatches\n",
        "import math\n",
        "from matplotlib.ticker import MaxNLocator\n",
        "import matplotlib.ticker as mtick\n",
        "\n",
        "\n",
        "plt.rcParams.update({'font.size': 20})\n",
        "%config InlineBackend.figure_format = 'retina'"
      ],
      "execution_count": 3,
      "outputs": []
    },
    {
      "cell_type": "code",
      "metadata": {
        "id": "s4WU1jljC_cS",
        "colab": {
          "base_uri": "https://localhost:8080/"
        },
        "outputId": "fe7cdab9-742f-4008-8e0b-322b9da6402a"
      },
      "source": [
        "tare = [1234.3, 1230.3, 1251.4, 1238.2, 1235.7]\n",
        "empty = np.mean(tare)\n",
        "print(empty)\n",
        "\n",
        "t_c = 5"
      ],
      "execution_count": 4,
      "outputs": [
        {
          "output_type": "stream",
          "text": [
            "1237.98\n"
          ],
          "name": "stdout"
        }
      ]
    },
    {
      "cell_type": "code",
      "metadata": {
        "id": "N2k-DbUNC_cS"
      },
      "source": [
        "df = pd.read_csv(\"/content/colosseum/data/experiment_1.txt\", sep=\"\\t\")\n",
        "\n",
        "columns = {\"Trial\": \"trial\",\n",
        "           \"Experiment [mL/s]\":\t\"flowrate\",\n",
        "           \"Total weight [mg]\": \"total_weight\",\n",
        "           \"Fluid weight [mg]\":\t\"fluid_weight\"}\n",
        "\n",
        "df = df.rename(columns=columns)\n",
        "df[\"fluid_vol\"] = df[\"fluid_weight\"]/1000\n",
        "df[\"expected_vol\"] = t_c*df[\"flowrate\"]"
      ],
      "execution_count": 5,
      "outputs": []
    },
    {
      "cell_type": "code",
      "metadata": {
        "id": "ElX3sK7EFGyp",
        "colab": {
          "base_uri": "https://localhost:8080/",
          "height": 415
        },
        "outputId": "c60d5d7a-a856-4f83-fa3b-781d1a503ec4"
      },
      "source": [
        "df"
      ],
      "execution_count": 6,
      "outputs": [
        {
          "output_type": "execute_result",
          "data": {
            "text/html": [
              "<div>\n",
              "<style scoped>\n",
              "    .dataframe tbody tr th:only-of-type {\n",
              "        vertical-align: middle;\n",
              "    }\n",
              "\n",
              "    .dataframe tbody tr th {\n",
              "        vertical-align: top;\n",
              "    }\n",
              "\n",
              "    .dataframe thead th {\n",
              "        text-align: right;\n",
              "    }\n",
              "</style>\n",
              "<table border=\"1\" class=\"dataframe\">\n",
              "  <thead>\n",
              "    <tr style=\"text-align: right;\">\n",
              "      <th></th>\n",
              "      <th>trial</th>\n",
              "      <th>flowrate</th>\n",
              "      <th>total_weight</th>\n",
              "      <th>fluid_weight</th>\n",
              "      <th>fluid_vol</th>\n",
              "      <th>expected_vol</th>\n",
              "    </tr>\n",
              "  </thead>\n",
              "  <tbody>\n",
              "    <tr>\n",
              "      <th>0</th>\n",
              "      <td>1</td>\n",
              "      <td>0.200</td>\n",
              "      <td>2242.7</td>\n",
              "      <td>1004.72</td>\n",
              "      <td>1.00472</td>\n",
              "      <td>1.000</td>\n",
              "    </tr>\n",
              "    <tr>\n",
              "      <th>1</th>\n",
              "      <td>2</td>\n",
              "      <td>0.200</td>\n",
              "      <td>2272.1</td>\n",
              "      <td>1034.12</td>\n",
              "      <td>1.03412</td>\n",
              "      <td>1.000</td>\n",
              "    </tr>\n",
              "    <tr>\n",
              "      <th>2</th>\n",
              "      <td>3</td>\n",
              "      <td>0.200</td>\n",
              "      <td>2241.8</td>\n",
              "      <td>1003.82</td>\n",
              "      <td>1.00382</td>\n",
              "      <td>1.000</td>\n",
              "    </tr>\n",
              "    <tr>\n",
              "      <th>3</th>\n",
              "      <td>4</td>\n",
              "      <td>0.200</td>\n",
              "      <td>2234.9</td>\n",
              "      <td>996.92</td>\n",
              "      <td>0.99692</td>\n",
              "      <td>1.000</td>\n",
              "    </tr>\n",
              "    <tr>\n",
              "      <th>4</th>\n",
              "      <td>5</td>\n",
              "      <td>0.200</td>\n",
              "      <td>2267.2</td>\n",
              "      <td>1029.22</td>\n",
              "      <td>1.02922</td>\n",
              "      <td>1.000</td>\n",
              "    </tr>\n",
              "    <tr>\n",
              "      <th>...</th>\n",
              "      <td>...</td>\n",
              "      <td>...</td>\n",
              "      <td>...</td>\n",
              "      <td>...</td>\n",
              "      <td>...</td>\n",
              "      <td>...</td>\n",
              "    </tr>\n",
              "    <tr>\n",
              "      <th>195</th>\n",
              "      <td>196</td>\n",
              "      <td>0.025</td>\n",
              "      <td>1407.8</td>\n",
              "      <td>169.82</td>\n",
              "      <td>0.16982</td>\n",
              "      <td>0.125</td>\n",
              "    </tr>\n",
              "    <tr>\n",
              "      <th>196</th>\n",
              "      <td>197</td>\n",
              "      <td>0.025</td>\n",
              "      <td>1341.4</td>\n",
              "      <td>103.42</td>\n",
              "      <td>0.10342</td>\n",
              "      <td>0.125</td>\n",
              "    </tr>\n",
              "    <tr>\n",
              "      <th>197</th>\n",
              "      <td>198</td>\n",
              "      <td>0.025</td>\n",
              "      <td>1361.0</td>\n",
              "      <td>123.02</td>\n",
              "      <td>0.12302</td>\n",
              "      <td>0.125</td>\n",
              "    </tr>\n",
              "    <tr>\n",
              "      <th>198</th>\n",
              "      <td>199</td>\n",
              "      <td>0.025</td>\n",
              "      <td>1405.5</td>\n",
              "      <td>167.52</td>\n",
              "      <td>0.16752</td>\n",
              "      <td>0.125</td>\n",
              "    </tr>\n",
              "    <tr>\n",
              "      <th>199</th>\n",
              "      <td>200</td>\n",
              "      <td>0.025</td>\n",
              "      <td>1352.0</td>\n",
              "      <td>114.02</td>\n",
              "      <td>0.11402</td>\n",
              "      <td>0.125</td>\n",
              "    </tr>\n",
              "  </tbody>\n",
              "</table>\n",
              "<p>200 rows × 6 columns</p>\n",
              "</div>"
            ],
            "text/plain": [
              "     trial  flowrate  total_weight  fluid_weight  fluid_vol  expected_vol\n",
              "0        1     0.200        2242.7       1004.72    1.00472         1.000\n",
              "1        2     0.200        2272.1       1034.12    1.03412         1.000\n",
              "2        3     0.200        2241.8       1003.82    1.00382         1.000\n",
              "3        4     0.200        2234.9        996.92    0.99692         1.000\n",
              "4        5     0.200        2267.2       1029.22    1.02922         1.000\n",
              "..     ...       ...           ...           ...        ...           ...\n",
              "195    196     0.025        1407.8        169.82    0.16982         0.125\n",
              "196    197     0.025        1341.4        103.42    0.10342         0.125\n",
              "197    198     0.025        1361.0        123.02    0.12302         0.125\n",
              "198    199     0.025        1405.5        167.52    0.16752         0.125\n",
              "199    200     0.025        1352.0        114.02    0.11402         0.125\n",
              "\n",
              "[200 rows x 6 columns]"
            ]
          },
          "metadata": {
            "tags": []
          },
          "execution_count": 6
        }
      ]
    },
    {
      "cell_type": "code",
      "metadata": {
        "id": "BXW8IL-LCOiQ"
      },
      "source": [
        "obs = df.groupby(\"flowrate\")[\"fluid_vol\"].apply(np.array)\n",
        "exp = obs.index.values*t_c\n",
        "conditions = np.unique(df[\"flowrate\"].values)"
      ],
      "execution_count": 7,
      "outputs": []
    },
    {
      "cell_type": "code",
      "metadata": {
        "id": "9rFcIJJgE4FE",
        "colab": {
          "base_uri": "https://localhost:8080/"
        },
        "outputId": "dfe9303d-524d-448d-ab3b-689b014d60f4"
      },
      "source": [
        "obs"
      ],
      "execution_count": 8,
      "outputs": [
        {
          "output_type": "execute_result",
          "data": {
            "text/plain": [
              "flowrate\n",
              "0.025    [0.15672, 0.11752, 0.10232, 0.14092, 0.15832, ...\n",
              "0.050    [0.23962, 0.28352, 0.28022, 0.25762, 0.23012, ...\n",
              "0.100    [0.52232, 0.51242, 0.51762, 0.51232, 0.48412, ...\n",
              "0.200    [1.00472, 1.03412, 1.0038200000000002, 0.99691...\n",
              "Name: fluid_vol, dtype: object"
            ]
          },
          "metadata": {
            "tags": []
          },
          "execution_count": 8
        }
      ]
    },
    {
      "cell_type": "code",
      "metadata": {
        "id": "IFk0BcKIEFmB",
        "colab": {
          "base_uri": "https://localhost:8080/"
        },
        "outputId": "47259ddc-7b60-476b-b246-b65a8cc60186"
      },
      "source": [
        "exp"
      ],
      "execution_count": 9,
      "outputs": [
        {
          "output_type": "execute_result",
          "data": {
            "text/plain": [
              "array([0.125, 0.25 , 0.5  , 1.   ])"
            ]
          },
          "metadata": {
            "tags": []
          },
          "execution_count": 9
        }
      ]
    },
    {
      "cell_type": "code",
      "metadata": {
        "id": "i-8ON79fEQCc"
      },
      "source": [
        "mean = df.groupby(\"flowrate\")[\"fluid_vol\"].agg(np.mean)\n",
        "stdev = df.groupby(\"flowrate\")[\"fluid_vol\"].agg(np.std)"
      ],
      "execution_count": 10,
      "outputs": []
    },
    {
      "cell_type": "code",
      "metadata": {
        "id": "eg4tCeLDETxr",
        "colab": {
          "base_uri": "https://localhost:8080/"
        },
        "outputId": "e979dc18-7d45-4270-97f4-6548965e5b52"
      },
      "source": [
        "mean"
      ],
      "execution_count": 11,
      "outputs": [
        {
          "output_type": "execute_result",
          "data": {
            "text/plain": [
              "flowrate\n",
              "0.025    0.131152\n",
              "0.050    0.257916\n",
              "0.100    0.509406\n",
              "0.200    1.019212\n",
              "Name: fluid_vol, dtype: float64"
            ]
          },
          "metadata": {
            "tags": []
          },
          "execution_count": 11
        }
      ]
    },
    {
      "cell_type": "code",
      "metadata": {
        "id": "Jiog8VDMEi7M",
        "colab": {
          "base_uri": "https://localhost:8080/"
        },
        "outputId": "28a2d458-cbf3-4634-f18d-1d5c1f40701a"
      },
      "source": [
        "stdev"
      ],
      "execution_count": 12,
      "outputs": [
        {
          "output_type": "execute_result",
          "data": {
            "text/plain": [
              "flowrate\n",
              "0.025    0.019316\n",
              "0.050    0.021444\n",
              "0.100    0.016786\n",
              "0.200    0.020812\n",
              "Name: fluid_vol, dtype: float64"
            ]
          },
          "metadata": {
            "tags": []
          },
          "execution_count": 12
        }
      ]
    },
    {
      "cell_type": "code",
      "metadata": {
        "id": "PUxANTsdA-dv"
      },
      "source": [
        "def violinplot(data, ax, **kwd): \n",
        "    xticklabels = kwd.get(\"xticklabels\", [])\n",
        "    xticks = kwd.get(\"xticks\", [])\n",
        "    selected = kwd.get(\"selected\", None)\n",
        "    color = kwd.get(\"color\", \"lightgrey\")\n",
        "    \n",
        "    if  len(xticks)==0: xticks = np.arange(len(data))+1;\n",
        "    if  len(xticklabels)==0: xticklabels = np.arange(len(data))+1;\n",
        "    assert(len(xticks) == len(xticklabels))\n",
        "        \n",
        "    violins = ax.violinplot(data, positions=xticks, showmeans=False, showmedians=False, showextrema=False)\n",
        "    \n",
        "    for vidx, v in enumerate(violins['bodies']):\n",
        "        v.set_facecolor(color)\n",
        "        v.set_edgecolor('black')\n",
        "        v.set_alpha(1)\n",
        "        if selected == vidx:\n",
        "            v.set_facecolor(\"#D43F3A\")\n",
        "\n",
        "            \n",
        "    \n",
        "    for didx, d in enumerate(data):\n",
        "        x = xticks[didx]\n",
        "        xx = np.random.normal(x, 0.04, size=len(d))\n",
        "        \n",
        "        # actual points\n",
        "        ax.scatter(xx, d, s = 5, color=\"white\", edgecolor=\"black\", linewidth=1)\n",
        "        \n",
        "        # mean and error bars\n",
        "        mean = np.mean(d)\n",
        "        stdev = np.sqrt(np.var(d))\n",
        "        ax.scatter(x, mean, color=\"lightgrey\", edgecolor=\"black\", linewidth=1, zorder=10)    \n",
        "        ax.vlines(x, mean - stdev, mean+stdev, color='black', linestyle='-', lw=2, zorder=9)\n",
        "        \n",
        "    ax.set(**{\"xticks\": xticks, \"xticklabels\":xticklabels})\n",
        "    \n",
        "    return ax"
      ],
      "execution_count": 13,
      "outputs": []
    },
    {
      "cell_type": "code",
      "metadata": {
        "id": "Ixc1KXrcEx5W"
      },
      "source": [
        "err = (obs-exp)"
      ],
      "execution_count": 14,
      "outputs": []
    },
    {
      "cell_type": "code",
      "metadata": {
        "id": "ivGHaGYgI4CX",
        "colab": {
          "base_uri": "https://localhost:8080/"
        },
        "outputId": "46bbbb97-c80e-4856-aa32-330f57d9f4ce"
      },
      "source": [
        "exp"
      ],
      "execution_count": 15,
      "outputs": [
        {
          "output_type": "execute_result",
          "data": {
            "text/plain": [
              "array([0.125, 0.25 , 0.5  , 1.   ])"
            ]
          },
          "metadata": {
            "tags": []
          },
          "execution_count": 15
        }
      ]
    },
    {
      "cell_type": "code",
      "metadata": {
        "id": "gfpyEY5gIbEf",
        "colab": {
          "base_uri": "https://localhost:8080/"
        },
        "outputId": "5204b08f-e195-4d3f-d574-349bc0766cde"
      },
      "source": [
        "obs"
      ],
      "execution_count": 16,
      "outputs": [
        {
          "output_type": "execute_result",
          "data": {
            "text/plain": [
              "flowrate\n",
              "0.025    [0.15672, 0.11752, 0.10232, 0.14092, 0.15832, ...\n",
              "0.050    [0.23962, 0.28352, 0.28022, 0.25762, 0.23012, ...\n",
              "0.100    [0.52232, 0.51242, 0.51762, 0.51232, 0.48412, ...\n",
              "0.200    [1.00472, 1.03412, 1.0038200000000002, 0.99691...\n",
              "Name: fluid_vol, dtype: object"
            ]
          },
          "metadata": {
            "tags": []
          },
          "execution_count": 16
        }
      ]
    },
    {
      "cell_type": "code",
      "metadata": {
        "id": "POUO4vIdI8PF",
        "colab": {
          "base_uri": "https://localhost:8080/"
        },
        "outputId": "23f12d84-cc0b-4a87-f27a-fd2bec2238a0"
      },
      "source": [
        "err"
      ],
      "execution_count": 17,
      "outputs": [
        {
          "output_type": "execute_result",
          "data": {
            "text/plain": [
              "flowrate\n",
              "0.025    [0.03172, -0.0074800000000000005, -0.022680000...\n",
              "0.050    [-0.01038, 0.033519999999999994, 0.03022000000...\n",
              "0.100    [0.022320000000000007, 0.012419999999999987, 0...\n",
              "0.200    [0.0047200000000000575, 0.03411999999999993, 0...\n",
              "Name: fluid_vol, dtype: object"
            ]
          },
          "metadata": {
            "tags": []
          },
          "execution_count": 17
        }
      ]
    },
    {
      "cell_type": "code",
      "metadata": {
        "id": "PSkCcM5UJB4C",
        "colab": {
          "base_uri": "https://localhost:8080/"
        },
        "outputId": "c4728284-2645-4788-ef9a-712469af3b9c"
      },
      "source": [
        "err/exp*100"
      ],
      "execution_count": 18,
      "outputs": [
        {
          "output_type": "execute_result",
          "data": {
            "text/plain": [
              "flowrate\n",
              "0.025    [25.375999999999998, -5.984, -18.1440000000000...\n",
              "0.050    [-4.152, 13.407999999999998, 12.08800000000001...\n",
              "0.100    [4.464000000000001, 2.4839999999999973, 3.5239...\n",
              "0.200    [0.47200000000000575, 3.411999999999993, 0.382...\n",
              "Name: fluid_vol, dtype: object"
            ]
          },
          "metadata": {
            "tags": []
          },
          "execution_count": 18
        }
      ]
    },
    {
      "cell_type": "code",
      "metadata": {
        "id": "0gSfT4YWAW7t",
        "colab": {
          "base_uri": "https://localhost:8080/",
          "height": 470
        },
        "outputId": "f11438e3-58f5-414e-c808-4520d610e59b"
      },
      "source": [
        "fig, ax = plt.subplots(figsize=(7,7))\n",
        "\n",
        "errors = (err/exp*100).values\n",
        "\n",
        "violinplot(errors, ax, xticklabels=conditions)\n",
        "\n",
        "ax.set(**{\n",
        "    \"xlabel\": \"Flow rate [mL/s]\",\n",
        "    \"ylabel\": \"Error %\",\n",
        "    \"ylim\": (-100, 100)\n",
        "})\n",
        "\n",
        "\n",
        "fig.show()"
      ],
      "execution_count": 19,
      "outputs": [
        {
          "output_type": "display_data",
          "data": {
            "image/png": "[encoded data removed]",
            "text/plain": [
              "<Figure size 504x504 with 1 Axes>"
            ]
          },
          "metadata": {
            "tags": [],
            "image/png": {
              "width": 490,
              "height": 453
            },
            "needs_background": "light"
          }
        }
      ]
    },
    {
      "cell_type": "code",
      "metadata": {
        "id": "4MPJpc6nMTiw",
        "colab": {
          "base_uri": "https://localhost:8080/"
        },
        "outputId": "e0e18b20-3fff-46fd-b1ce-3dcfede1ed80"
      },
      "source": [
        "23000/60/60"
      ],
      "execution_count": 20,
      "outputs": [
        {
          "output_type": "execute_result",
          "data": {
            "text/plain": [
              "6.388888888888888"
            ]
          },
          "metadata": {
            "tags": []
          },
          "execution_count": 20
        }
      ]
    },
    {
      "cell_type": "code",
      "metadata": {
        "id": "V3DG7X66AXtW"
      },
      "source": [
        "import statsmodels.api as sm\n",
        "from statsmodels.stats.multitest import multipletests"
      ],
      "execution_count": 57,
      "outputs": []
    },
    {
      "cell_type": "code",
      "metadata": {
        "id": "JEueAMTnAvDQ"
      },
      "source": [
        "lens = obs.apply(lambda x: len(x)).values\n",
        "X = np.repeat(obs.index.values, lens)\n",
        "XX = sm.add_constant(X)\n",
        "\n",
        "Y = np.concatenate(obs.values)"
      ],
      "execution_count": 58,
      "outputs": []
    },
    {
      "cell_type": "code",
      "metadata": {
        "id": "DkrxkfQMAd2J"
      },
      "source": [
        "ols = sm.OLS(Y, XX).fit()"
      ],
      "execution_count": 63,
      "outputs": []
    },
    {
      "cell_type": "code",
      "metadata": {
        "id": "YuTZW-UWBkgx",
        "outputId": "fdd983af-a6db-4e65-8ea9-a1ca1b7e4ea2",
        "colab": {
          "base_uri": "https://localhost:8080/"
        }
      },
      "source": [
        "print(ols.summary())"
      ],
      "execution_count": 65,
      "outputs": [
        {
          "output_type": "stream",
          "text": [
            "                            OLS Regression Results                            \n",
            "==============================================================================\n",
            "Dep. Variable:                      y   R-squared:                       0.997\n",
            "Model:                            OLS   Adj. R-squared:                  0.997\n",
            "Method:                 Least Squares   F-statistic:                 6.023e+04\n",
            "Date:                Wed, 23 Dec 2020   Prob (F-statistic):          6.08e-248\n",
            "Time:                        05:16:50   Log-Likelihood:                 503.69\n",
            "No. Observations:                 200   AIC:                            -1003.\n",
            "Df Residuals:                     198   BIC:                            -996.8\n",
            "Df Model:                           1                                         \n",
            "Covariance Type:            nonrobust                                         \n",
            "==============================================================================\n",
            "                 coef    std err          t      P>|t|      [0.025      0.975]\n",
            "------------------------------------------------------------------------------\n",
            "const          0.0037      0.002      1.565      0.119      -0.001       0.008\n",
            "x1             5.0741      0.021    245.411      0.000       5.033       5.115\n",
            "==============================================================================\n",
            "Omnibus:                        0.395   Durbin-Watson:                   1.933\n",
            "Prob(Omnibus):                  0.821   Jarque-Bera (JB):                0.537\n",
            "Skew:                           0.075   Prob(JB):                        0.764\n",
            "Kurtosis:                       2.795   Cond. No.                         15.1\n",
            "==============================================================================\n",
            "\n",
            "Warnings:\n",
            "[1] Standard Errors assume that the covariance matrix of the errors is correctly specified.\n"
          ],
          "name": "stdout"
        }
      ]
    },
    {
      "cell_type": "code",
      "metadata": {
        "id": "cGvIfWIN-Hz_",
        "outputId": "7444997e-2f02-49a4-fa13-72752321ee80",
        "colab": {
          "base_uri": "https://localhost:8080/",
          "height": 626
        }
      },
      "source": [
        "fig, ax = plt.subplots(figsize=(10, 10))\n",
        "\n",
        "parts = ax.violinplot(obs.values, conditions, widths=0.02,\n",
        "                      showmeans=False, showextrema=False, showmedians=False,\n",
        "                      bw_method='silverman')\n",
        "for idx, condish in enumerate(conditions):\n",
        "    x = np.random.normal(condish, 0.002, size=len(obs.values[idx]))\n",
        "    ax.scatter(x, obs.values[idx], s=5, color=\"white\", edgecolor=\"black\", linewidth=1)\n",
        "\n",
        "# Means\n",
        "mean  = np.array([i.mean() for i in obs.values])\n",
        "stdev = np.array([np.sqrt(np.var(i)) for i in obs.values])\n",
        "ax.scatter(conditions, mean, color=\"lightgrey\", edgecolor=\"black\", linewidth=1, zorder=10)    \n",
        "ax.vlines(conditions, mean - stdev, mean+stdev, color='black', linestyle='-', lw=2, zorder=9)\n",
        "\n",
        "for pc in parts['bodies']:\n",
        "    pc.set_facecolor('lightgrey')\n",
        "    pc.set_edgecolor('black')\n",
        "    pc.set_alpha(1)\n",
        "\n",
        "ax.axhline(y=0.125, color ='grey', alpha=0.5, linestyle=\"--\")\n",
        "ax.axvline(x=0.025, color ='grey', alpha=0.5, linestyle=\"--\")\n",
        "\n",
        "ax.axhline(y=0.250, color ='grey', alpha=0.5, linestyle=\"--\")\n",
        "ax.axvline(x=0.050, color ='grey', alpha=0.5, linestyle=\"--\")\n",
        "\n",
        "ax.axhline(y=0.500, color ='grey', alpha=0.5, linestyle=\"--\")\n",
        "ax.axvline(x=0.100, color ='grey', alpha=0.5, linestyle=\"--\")\n",
        "\n",
        "ax.axhline(y=1.000, color='grey', alpha=0.5, linestyle=\"--\")\n",
        "ax.axvline(x=0.2000, color='grey', alpha=0.5, linestyle=\"--\")\n",
        "\n",
        "x = np.array([conditions.min(), conditions.max()])\n",
        "ax.plot(x, ols.params[0]+ols.params[1]*x)\n",
        "\n",
        "ax.set_xlim(0.015, 0.21)\n",
        "\n",
        "ax.set(**{\n",
        "    \"xlabel\": \"Flow rate [mL/s]\",\n",
        "    \"ylabel\": \"Fraction Size [mL]\"\n",
        "})\n",
        "# plt.savefig(\"../figures/fraction_flowrate.pdf\", bbox_inches='tight')\n",
        "# plt.savefig(\"../figures/fraction_flowrate.png\", bbox_inches='tight', dpi=100)\n",
        "fig.show()"
      ],
      "execution_count": 67,
      "outputs": [
        {
          "output_type": "display_data",
          "data": {
            "image/png": "[encoded data removed]",
            "text/plain": [
              "<Figure size 720x720 with 1 Axes>"
            ]
          },
          "metadata": {
            "tags": [],
            "image/png": {
              "width": 635,
              "height": 609
            },
            "needs_background": "light"
          }
        }
      ]
    },
    {
      "cell_type": "markdown",
      "metadata": {
        "id": "3QoFb6kcC_cU"
      },
      "source": [
        "# Experiment 2 Analysis"
      ]
    },
    {
      "cell_type": "code",
      "metadata": {
        "id": "DmWjA17LC_cU"
      },
      "source": [
        "df2 = pd.read_csv(\"/content/colosseum/data/experiment_2.txt\", sep=\"\\t\")"
      ],
      "execution_count": null,
      "outputs": []
    },
    {
      "cell_type": "code",
      "metadata": {
        "id": "FkAltaJ7C_cV"
      },
      "source": [
        "df2.head()"
      ],
      "execution_count": null,
      "outputs": []
    },
    {
      "cell_type": "code",
      "metadata": {
        "id": "xMdOZx88C_cV"
      },
      "source": [
        "experiments = np.unique(df2[\"Experiment\"].values)\n",
        "tpts = np.arange(2, 32, 2)\n",
        "means = df2.groupby([\"Collection Time (s)\"])[\"Fluid weight [mg]\"].mean()"
      ],
      "execution_count": null,
      "outputs": []
    },
    {
      "cell_type": "code",
      "metadata": {
        "id": "fCmWXP8FC_cV"
      },
      "source": [
        "slope, intercept, r_value, p_value, std_err = stats.linregress(tpts, means)"
      ],
      "execution_count": null,
      "outputs": []
    },
    {
      "cell_type": "code",
      "metadata": {
        "id": "SN_Q9BgaC_cV"
      },
      "source": [
        "fig, ax = plt.subplots(figsize=(10, 10))\n",
        "\n",
        "ax.plot(tpts, intercept + slope*tpts, 'black', label='r$^2$ = {:.3f}'.format(r_value**2), linewidth=3)\n",
        "\n",
        "\n",
        "shapes = [\"o\", \"^\", \"s\"]\n",
        "colors = [\"dimgrey\", \"silver\", \"gainsboro\"]\n",
        "\n",
        "for idx, exp in enumerate(experiments):\n",
        "    tmp = df2[df2[\"Experiment\"] == exp]\n",
        "    cumsum = tmp[\"Fluid weight [mg]\"].values.cumsum()\n",
        "    \n",
        "    ax.plot(tmp[\"Collection Time (s)\"].values, tmp[\"Fluid weight [mg]\"].values, label=\"Replicate {}\".format(idx+1),linestyle='None', marker=shapes[idx], color=colors[idx], markeredgecolor='black', markersize=12)\n",
        "    \n",
        "ax.set_xlabel(\"Fraction dwell time [s]\")\n",
        "ax.set_ylabel(\"Fraction size [mg]\")\n",
        "\n",
        "\n",
        "plt.legend()\n",
        "\n",
        "# plt.savefig(\"../figures/fraction_dwelltime.pdf\", bbox_inches='tight')\n",
        "# plt.savefig(\"../figures/fraction_dwelltime.png\", bbox_inches='tight', dpi=100)\n",
        "\n",
        "\n",
        "plt.show()"
      ],
      "execution_count": null,
      "outputs": []
    },
    {
      "cell_type": "markdown",
      "metadata": {
        "id": "j0umz67aC_cW"
      },
      "source": [
        "# Plot Archimedian spiral"
      ]
    },
    {
      "cell_type": "code",
      "metadata": {
        "id": "oVKEtvCkC_cW"
      },
      "source": [
        "def spiral_points(arc=1, separation=1):\n",
        "    \"\"\"generate points on an Archimedes' spiral\n",
        "    with `arc` giving the length of arc between two points\n",
        "    and `separation` giving the distance between consecutive \n",
        "    turnings\n",
        "    - approximate arc length with circle arc at given distance\n",
        "    - use a spiral equation r = b * phi\n",
        "    \"\"\"\n",
        "    def p2c(r, phi):\n",
        "        \"\"\"polar to cartesian\n",
        "        \"\"\"\n",
        "        return (r * math.cos(phi), r * math.sin(phi))\n",
        "\n",
        "    # yield a point at origin\n",
        "    yield (0, 0)\n",
        "\n",
        "    # initialize the next point in the required distance\n",
        "    r = arc\n",
        "    b = separation / (2 * math.pi)\n",
        "    # find the first phi to satisfy distance of `arc` to the second point\n",
        "    phi = float(r) / b\n",
        "    while True:\n",
        "        yield p2c(r, phi)\n",
        "        # advance the variables\n",
        "        # calculate phi that will give desired arc length at current radius\n",
        "        # (approximating with circle)\n",
        "        phi += float(arc) / r\n",
        "        r = b * phi"
      ],
      "execution_count": null,
      "outputs": []
    },
    {
      "cell_type": "code",
      "metadata": {
        "id": "YYPpS0ZzC_cW"
      },
      "source": [
        "xx = []\n",
        "yy = []\n",
        "n_tubes = 88\n",
        "data = np.zeros((n_tubes,2))\n",
        "for idx, i in enumerate(spiral_points(arc=13, separation=19.5)):\n",
        "    if idx==n_tubes:\n",
        "        break\n",
        "    data[idx] = i\n"
      ],
      "execution_count": null,
      "outputs": []
    },
    {
      "cell_type": "code",
      "metadata": {
        "id": "LjXsEBZfC_cW"
      },
      "source": [
        "theta = []\n",
        "for x, y in data:\n",
        "    t = math.atan2(y,x)\n",
        "    theta.append(t)\n",
        "theta = np.array(theta)*180*200/np.pi/360"
      ],
      "execution_count": null,
      "outputs": []
    },
    {
      "cell_type": "code",
      "metadata": {
        "id": "ALhGnzhiDzmO"
      },
      "source": [
        "b = 19.5/(2*np.pi)"
      ],
      "execution_count": null,
      "outputs": []
    },
    {
      "cell_type": "code",
      "metadata": {
        "id": "55FSZMI9C_cW"
      },
      "source": [
        "fig, ax = plt.subplots(figsize=(10*2, 10), ncols=2)\n",
        "\n",
        "xx = data[:,0][1:]\n",
        "yy = data[:,1][1:]\n",
        "\n",
        "ax[0].plot(xx,yy, 'o', ms=14, markerfacecolor=\"None\",markeredgecolor='black', markeredgewidth=2)\n",
        "ax[0].set_xlabel(\"x-coordinate [mm]\")\n",
        "ax[0].set_ylabel(\"y-coordinate [mm]\")\n",
        "\n",
        "ax2 = ax[1].twinx()\n",
        "xx = np.arange(len(theta)-1)\n",
        "yy = theta[1:] - theta[:-1]\n",
        "\n",
        "# to fix the the jump in theta due to branch cuts\n",
        "# we add a contant back to those values that cross the\n",
        "# branch. There is certainly a more elegant way to do this.\n",
        "\n",
        "for idx, i in enumerate(yy):\n",
        "    if i < -50:\n",
        "        yy[idx] = yy[idx] + 200\n",
        "\n",
        "ax[1].scatter(xx, yy, color=\"black\")\n",
        "ax2.scatter(xx, np.cumsum(yy), color=\"grey\", zorder=-1)\n",
        "ax2.set_ylabel(\"Cumulative rotation [steps]\")\n",
        "ax[1].scatter(xx, np.pi/np.sqrt(b*xx)*180*200/np.pi/360, color='r')\n",
        "\n",
        "ax[1].set_xlabel(\"Tube number\")\n",
        "ax[1].set_ylabel(\"$\\Delta \\Theta$ rotation [steps]\")\n",
        "\n",
        "grey_patch = mpatches.Patch(color='grey', label='Cumulative')\n",
        "black_patch = mpatches.Patch(color='black', label='Incremental')\n",
        "red_patch = mpatches.Patch(color='red', label='Approximation')\n",
        "\n",
        "plt.legend(handles=[black_patch, grey_patch, red_patch], loc=\"upper left\")\n",
        "\n",
        "# plt.savefig(\"../figures/analytical.pdf\", bbox_inches='tight')\n",
        "# plt.savefig(\"../figures/analytical.png\", bbox_inches='tight', dpi=100)\n",
        "\n",
        "\n",
        "fig.show()"
      ],
      "execution_count": null,
      "outputs": []
    },
    {
      "cell_type": "markdown",
      "metadata": {
        "id": "K8pU02UsC_cX"
      },
      "source": [
        "# Scalability plot"
      ]
    },
    {
      "cell_type": "code",
      "metadata": {
        "id": "t-n3sfnmC_cX"
      },
      "source": [
        "fr = 10 # mL/hr\n",
        "fractions = 88\n",
        "per_volume = 1 # mL\n",
        "num_fc = np.arange(1, 20)\n",
        "\n",
        "hours = fractions*per_volume / num_fc/fr\n",
        "cost_per = 70"
      ],
      "execution_count": null,
      "outputs": []
    },
    {
      "cell_type": "code",
      "metadata": {
        "id": "GVus_zm8C_cY"
      },
      "source": [
        "fractions/fr/num_fc"
      ],
      "execution_count": null,
      "outputs": []
    },
    {
      "cell_type": "code",
      "metadata": {
        "id": "rVhXpFkyC_cY"
      },
      "source": [
        "fig, ax = plt.subplots(figsize=(10, 10))\n",
        "ax2 = ax.twinx()\n",
        "\n",
        "ax.scatter(num_fc, hours, c='k', s=100, label=\"Time\")\n",
        "\n",
        "ax.set_xlabel(\"Number of fraction collectors\")\n",
        "ax.set_ylabel(\"Experiment time [hr]\")\n",
        "ax.yaxis.set_major_locator(MaxNLocator(integer=True))\n",
        "ax.xaxis.set_major_locator(MaxNLocator(integer=True))\n",
        "\n",
        "\n",
        "ax2.scatter(num_fc, [i*cost_per for i in range(1, 20)], c='grey', s=100, label=\"Cost\")\n",
        "\n",
        "ax2.set_ylabel(\"Estimated cost [$]\")\n",
        "ax2.yaxis.set_major_locator(MaxNLocator(integer=True))\n",
        "\n",
        "grey_patch = mpatches.Patch(color='grey', label='Cost')\n",
        "black_patch = mpatches.Patch(color='black', label='Time')\n",
        "plt.legend(handles=[black_patch, grey_patch], loc=\"upper left\", bbox_to_anchor=(0.1, 1))\n",
        "\n",
        "# plt.savefig(\"../figures/time_cost_scale.pdf\", bbox_inches='tight')\n",
        "# plt.savefig(\"../figures/time_cost_scale.png\", bbox_inches='tight', dpi=100)\n",
        "\n",
        "\n",
        "fig.show()"
      ],
      "execution_count": null,
      "outputs": []
    },
    {
      "cell_type": "code",
      "metadata": {
        "id": "zOmfuzmNC_cZ"
      },
      "source": [
        "fig, ax = plt.subplots(figsize=(10,10))\n",
        "\n",
        "ax.scatter(xx, np.pi/np.sqrt(b*xx)*180*200/np.pi/360)\n",
        "\n",
        "plt.show()"
      ],
      "execution_count": null,
      "outputs": []
    },
    {
      "cell_type": "code",
      "metadata": {
        "id": "qesm_zY_C_cZ"
      },
      "source": [
        ""
      ],
      "execution_count": null,
      "outputs": []
    },
    {
      "cell_type": "code",
      "metadata": {
        "id": "iTPluAqAC_cZ"
      },
      "source": [
        ""
      ],
      "execution_count": null,
      "outputs": []
    }
  ]
}